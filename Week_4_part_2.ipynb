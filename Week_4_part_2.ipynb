{
  "nbformat": 4,
  "nbformat_minor": 0,
  "metadata": {
    "colab": {
      "name": "Week 4 part 2.ipynb",
      "provenance": [],
      "authorship_tag": "ABX9TyPt9hCjrMyXXIEcINi0Fg/z",
      "include_colab_link": true
    },
    "kernelspec": {
      "name": "python3",
      "display_name": "Python 3"
    }
  },
  "cells": [
    {
      "cell_type": "markdown",
      "metadata": {
        "id": "view-in-github",
        "colab_type": "text"
      },
      "source": [
        "<a href=\"https://colab.research.google.com/github/tonyfanxinbo/Coursera_Capstone/blob/master/Week_4_part_2.ipynb\" target=\"_parent\"><img src=\"https://colab.research.google.com/assets/colab-badge.svg\" alt=\"Open In Colab\"/></a>"
      ]
    },
    {
      "cell_type": "markdown",
      "metadata": {
        "id": "vAki0-OVhuGR",
        "colab_type": "text"
      },
      "source": [
        "I. Introduction\n",
        "\n",
        "The problem I try to expplore is \"where is the best location for a new KFC in Jurong west area of Singapore\". I am student studing that area and want to start my bussiness- opening a KFC. when i am choosing the location, I have following question: Should I place my KFC in a place where there are a lot of existing KFCs or in a place where there is none or should I try to find some balance between these two extremes?\n",
        "\n",
        "II. Data\n",
        "\n",
        "For the problem I will: 1) find the exsiting KFCs in Jurong west and identify them visually on a map; 2) create several \"clusters\" of these KFCs to identfiy potential locations for me to choose. I need choose one from these business locations and locate my new KFC in the center of it. \n",
        "\n",
        "We should use the \"explore\" endpoint. The request url is \"https://api.foursquare.com/v2/venues/explore\" According to the document, in the request, we should pass following parameters: \"section=KFC\" and \"near=jurong west\". In the response, we are interested in groups.items.categories, groups.items.venue.name, group.items.venue.location. To simplify the problem, we will only use the geographic location to cluster the KFCs.\n"
      ]
    }
  ]
}