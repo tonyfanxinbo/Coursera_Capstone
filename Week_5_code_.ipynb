{
  "nbformat": 4,
  "nbformat_minor": 0,
  "metadata": {
    "colab": {
      "name": "Week 5 code .ipynb",
      "provenance": [],
      "authorship_tag": "ABX9TyNqOWssDaaUW3CJ8ZiuqjFg",
      "include_colab_link": true
    },
    "kernelspec": {
      "name": "python3",
      "display_name": "Python 3"
    }
  },
  "cells": [
    {
      "cell_type": "markdown",
      "metadata": {
        "id": "view-in-github",
        "colab_type": "text"
      },
      "source": [
        "<a href=\"https://colab.research.google.com/github/tonyfanxinbo/Coursera_Capstone/blob/master/Week_5_code_.ipynb\" target=\"_parent\"><img src=\"https://colab.research.google.com/assets/colab-badge.svg\" alt=\"Open In Colab\"/></a>"
      ]
    },
    {
      "cell_type": "code",
      "metadata": {
        "id": "C92CjAbbjOJg",
        "colab_type": "code",
        "colab": {
          "base_uri": "https://localhost:8080/",
          "height": 83
        },
        "outputId": "23ef99e1-022b-41e3-ee8a-4ddebcda0c2e"
      },
      "source": [
        "import requests # library to handle requests\n",
        "import pandas as pd # library for data analsysis\n",
        "import numpy as np # library to handle data in a vectorized manner\n",
        "import random # library for random number generation\n",
        "\n",
        "!conda install -c conda-forge geopy --yes \n",
        "from geopy.geocoders import Nominatim # module to convert an address into latitude and longitude values\n",
        "\n",
        "# libraries for displaying images\n",
        "from IPython.display import Image \n",
        "from IPython.core.display import HTML \n",
        "    \n",
        "# tranforming json file into a pandas dataframe library\n",
        "from pandas.io.json import json_normalize\n",
        "\n",
        "!conda install -c conda-forge folium=0.5.0 --yes\n",
        "import folium # plotting library\n",
        "\n",
        "print('Folium installed')\n",
        "print('Libraries imported.')"
      ],
      "execution_count": 1,
      "outputs": [
        {
          "output_type": "stream",
          "text": [
            "/bin/bash: conda: command not found\n",
            "/bin/bash: conda: command not found\n",
            "Folium installed\n",
            "Libraries imported.\n"
          ],
          "name": "stdout"
        }
      ]
    },
    {
      "cell_type": "code",
      "metadata": {
        "id": "Wc0NurQ5kVB3",
        "colab_type": "code",
        "colab": {
          "base_uri": "https://localhost:8080/",
          "height": 67
        },
        "outputId": "8f0bf3fe-a687-441b-8004-a8fd9782934a"
      },
      "source": [
        "CLIENT_ID = 'XE4UMRQPRMQH4HPK15PHB0H0WDDELX4NCBU210Z1P1JSSSIO' # your Foursquare ID\n",
        "CLIENT_SECRET = 'FP5DGAGO2PYZ45XRUKXED4PA3FI1ATZAONEFQYSGV5J41UDB' # your Foursquare Secret\n",
        "VERSION = '20180604'\n",
        "LIMIT = 30\n",
        "print('Your credentails:')\n",
        "print('CLIENT_ID: ' + CLIENT_ID)\n",
        "print('CLIENT_SECRET:' + CLIENT_SECRET)"
      ],
      "execution_count": 2,
      "outputs": [
        {
          "output_type": "stream",
          "text": [
            "Your credentails:\n",
            "CLIENT_ID: XE4UMRQPRMQH4HPK15PHB0H0WDDELX4NCBU210Z1P1JSSSIO\n",
            "CLIENT_SECRET:FP5DGAGO2PYZ45XRUKXED4PA3FI1ATZAONEFQYSGV5J41UDB\n"
          ],
          "name": "stdout"
        }
      ]
    },
    {
      "cell_type": "code",
      "metadata": {
        "id": "BWKys513kkO5",
        "colab_type": "code",
        "colab": {
          "base_uri": "https://localhost:8080/",
          "height": 33
        },
        "outputId": "5dcaec50-4e20-400b-f346-f38b31e50a20"
      },
      "source": [
        "address = '50 Nanyang Ave, Singapore'\n",
        "\n",
        "geolocator = Nominatim(user_agent=\"foursquare_agent\")\n",
        "location = geolocator.geocode(address)\n",
        "latitude = location.latitude\n",
        "longitude = location.longitude\n",
        "print(latitude, longitude)"
      ],
      "execution_count": 3,
      "outputs": [
        {
          "output_type": "stream",
          "text": [
            "1.3464600500000001 103.68284771082475\n"
          ],
          "name": "stdout"
        }
      ]
    },
    {
      "cell_type": "code",
      "metadata": {
        "id": "ZDSWdrwvlX1K",
        "colab_type": "code",
        "colab": {
          "base_uri": "https://localhost:8080/",
          "height": 33
        },
        "outputId": "d5824bf1-f60f-4215-9ccc-826d5363d73a"
      },
      "source": [
        "search_query = 'KFC'\n",
        "radius = 5000\n",
        "print(search_query + ' .... OK!')"
      ],
      "execution_count": 11,
      "outputs": [
        {
          "output_type": "stream",
          "text": [
            "KFC .... OK!\n"
          ],
          "name": "stdout"
        }
      ]
    },
    {
      "cell_type": "code",
      "metadata": {
        "id": "xFOWB31AlZkt",
        "colab_type": "code",
        "colab": {
          "base_uri": "https://localhost:8080/",
          "height": 52
        },
        "outputId": "8c763894-114d-4f6e-e0e2-b340ca4dacb4"
      },
      "source": [
        "url = 'https://api.foursquare.com/v2/venues/search?client_id={}&client_secret={}&ll={},{}&v={}&query={}&radius={}&limit={}'.format(CLIENT_ID, CLIENT_SECRET, latitude, longitude, VERSION, search_query, radius, LIMIT)\n",
        "url"
      ],
      "execution_count": 12,
      "outputs": [
        {
          "output_type": "execute_result",
          "data": {
            "application/vnd.google.colaboratory.intrinsic+json": {
              "type": "string"
            },
            "text/plain": [
              "'https://api.foursquare.com/v2/venues/search?client_id=XE4UMRQPRMQH4HPK15PHB0H0WDDELX4NCBU210Z1P1JSSSIO&client_secret=FP5DGAGO2PYZ45XRUKXED4PA3FI1ATZAONEFQYSGV5J41UDB&ll=1.3464600500000001,103.68284771082475&v=20180604&query=KFC&radius=5000&limit=30'"
            ]
          },
          "metadata": {
            "tags": []
          },
          "execution_count": 12
        }
      ]
    },
    {
      "cell_type": "code",
      "metadata": {
        "id": "GD83W3svldPD",
        "colab_type": "code",
        "colab": {
          "base_uri": "https://localhost:8080/",
          "height": 1000
        },
        "outputId": "cc25f65d-16cc-48c9-dcad-52997a03fcd0"
      },
      "source": [
        "results = requests.get(url).json()\n",
        "results"
      ],
      "execution_count": 13,
      "outputs": [
        {
          "output_type": "execute_result",
          "data": {
            "text/plain": [
              "{'meta': {'code': 200, 'requestId': '5f3f1fb6b9d3034f4f1c5be0'},\n",
              " 'response': {'venues': [{'categories': [{'icon': {'prefix': 'https://ss3.4sqi.net/img/categories_v2/food/fastfood_',\n",
              "       'suffix': '.png'},\n",
              "      'id': '4bf58dd8d48988d16e941735',\n",
              "      'name': 'Fast Food Restaurant',\n",
              "      'pluralName': 'Fast Food Restaurants',\n",
              "      'primary': True,\n",
              "      'shortName': 'Fast Food'}],\n",
              "    'hasPerk': False,\n",
              "    'id': '53ca55dc498ee46b50d0f096',\n",
              "    'location': {'address': 'N2.1, #01-04, NTU',\n",
              "     'cc': 'SG',\n",
              "     'city': 'Singapore',\n",
              "     'country': 'Singapore',\n",
              "     'distance': 338,\n",
              "     'formattedAddress': ['N2.1, #01-04, NTU', 'Singapore'],\n",
              "     'labeledLatLngs': [{'label': 'display',\n",
              "       'lat': 1.347524284419654,\n",
              "       'lng': 103.68000176379424}],\n",
              "     'lat': 1.347524284419654,\n",
              "     'lng': 103.68000176379424},\n",
              "    'name': 'KFC',\n",
              "    'referralId': 'v-1597972897'},\n",
              "   {'categories': [{'icon': {'prefix': 'https://ss3.4sqi.net/img/categories_v2/food/fastfood_',\n",
              "       'suffix': '.png'},\n",
              "      'id': '4bf58dd8d48988d16e941735',\n",
              "      'name': 'Fast Food Restaurant',\n",
              "      'pluralName': 'Fast Food Restaurants',\n",
              "      'primary': True,\n",
              "      'shortName': 'Fast Food'}],\n",
              "    'hasPerk': False,\n",
              "    'id': '4c0f17ba2466a59304377a21',\n",
              "    'location': {'address': '60 Jurong West St 91',\n",
              "     'cc': 'SG',\n",
              "     'city': 'Singapore',\n",
              "     'country': 'Singapore',\n",
              "     'crossStreet': 'Nanyang CC',\n",
              "     'distance': 1175,\n",
              "     'formattedAddress': ['60 Jurong West St 91 (Nanyang CC)',\n",
              "      '649040',\n",
              "      'Singapore'],\n",
              "     'labeledLatLngs': [{'label': 'display',\n",
              "       'lat': 1.342704810612355,\n",
              "       'lng': 103.69272271534567}],\n",
              "     'lat': 1.342704810612355,\n",
              "     'lng': 103.69272271534567,\n",
              "     'postalCode': '649040'},\n",
              "    'name': 'KFC',\n",
              "    'referralId': 'v-1597972897'},\n",
              "   {'categories': [{'icon': {'prefix': 'https://ss3.4sqi.net/img/categories_v2/food/fastfood_',\n",
              "       'suffix': '.png'},\n",
              "      'id': '4bf58dd8d48988d16e941735',\n",
              "      'name': 'Fast Food Restaurant',\n",
              "      'pluralName': 'Fast Food Restaurants',\n",
              "      'primary': True,\n",
              "      'shortName': 'Fast Food'}],\n",
              "    'hasPerk': False,\n",
              "    'id': '4bed403fbac3c9b6e0f9fde9',\n",
              "    'location': {'address': '1 Jurong West St 74 #01-02',\n",
              "     'cc': 'SG',\n",
              "     'city': 'Singapore',\n",
              "     'country': 'Singapore',\n",
              "     'crossStreet': 'Gek Poh Ville CC',\n",
              "     'distance': 1771,\n",
              "     'formattedAddress': ['1 Jurong West St 74 #01-02 (Gek Poh Ville CC)',\n",
              "      '649149',\n",
              "      'Singapore'],\n",
              "     'labeledLatLngs': [{'label': 'display',\n",
              "       'lat': 1.3483089163619948,\n",
              "       'lng': 103.69865854414587}],\n",
              "     'lat': 1.3483089163619948,\n",
              "     'lng': 103.69865854414587,\n",
              "     'postalCode': '649149'},\n",
              "    'name': 'KFC',\n",
              "    'referralId': 'v-1597972897'},\n",
              "   {'categories': [{'icon': {'prefix': 'https://ss3.4sqi.net/img/categories_v2/food/fastfood_',\n",
              "       'suffix': '.png'},\n",
              "      'id': '4bf58dd8d48988d16e941735',\n",
              "      'name': 'Fast Food Restaurant',\n",
              "      'pluralName': 'Fast Food Restaurants',\n",
              "      'primary': True,\n",
              "      'shortName': 'Fast Food'}],\n",
              "    'hasPerk': False,\n",
              "    'id': '4bbc7606e4529521e4e055a4',\n",
              "    'location': {'address': '#01-30 Jurong Point (JP1)',\n",
              "     'cc': 'SG',\n",
              "     'city': 'Singapore',\n",
              "     'country': 'Singapore',\n",
              "     'crossStreet': '1 Jurong West Central 2',\n",
              "     'distance': 2736,\n",
              "     'formattedAddress': ['#01-30 Jurong Point (JP1) (1 Jurong West Central 2)',\n",
              "      '648886',\n",
              "      'Singapore'],\n",
              "     'labeledLatLngs': [{'label': 'display',\n",
              "       'lat': 1.339841876840794,\n",
              "       'lng': 103.70652844653279}],\n",
              "     'lat': 1.339841876840794,\n",
              "     'lng': 103.70652844653279,\n",
              "     'postalCode': '648886'},\n",
              "    'name': 'KFC',\n",
              "    'referralId': 'v-1597972897'},\n",
              "   {'categories': [{'icon': {'prefix': 'https://ss3.4sqi.net/img/categories_v2/food/fastfood_',\n",
              "       'suffix': '.png'},\n",
              "      'id': '4bf58dd8d48988d16e941735',\n",
              "      'name': 'Fast Food Restaurant',\n",
              "      'pluralName': 'Fast Food Restaurants',\n",
              "      'primary': True,\n",
              "      'shortName': 'Fast Food'}],\n",
              "    'hasPerk': False,\n",
              "    'id': '4b7a81a8f964a520342f2fe3',\n",
              "    'location': {'address': '18 Yung Ho Rd',\n",
              "     'cc': 'SG',\n",
              "     'city': 'Singapore',\n",
              "     'country': 'Singapore',\n",
              "     'distance': 5085,\n",
              "     'formattedAddress': ['18 Yung Ho Rd', '618591', 'Singapore'],\n",
              "     'labeledLatLngs': [{'label': 'display',\n",
              "       'lat': 1.3263589732572325,\n",
              "       'lng': 103.72388050305813}],\n",
              "     'lat': 1.3263589732572325,\n",
              "     'lng': 103.72388050305813,\n",
              "     'postalCode': '618591'},\n",
              "    'name': 'KFC',\n",
              "    'referralId': 'v-1597972897'},\n",
              "   {'categories': [{'icon': {'prefix': 'https://ss3.4sqi.net/img/categories_v2/food/fastfood_',\n",
              "       'suffix': '.png'},\n",
              "      'id': '4bf58dd8d48988d16e941735',\n",
              "      'name': 'Fast Food Restaurant',\n",
              "      'pluralName': 'Fast Food Restaurants',\n",
              "      'primary': True,\n",
              "      'shortName': 'Fast Food'}],\n",
              "    'hasPerk': False,\n",
              "    'id': '4bd04205caff9521236fcef0',\n",
              "    'location': {'address': '501 Jurong West St. 51 #01-257',\n",
              "     'cc': 'SG',\n",
              "     'city': 'Singapore',\n",
              "     'country': 'Singapore',\n",
              "     'distance': 4071,\n",
              "     'formattedAddress': ['501 Jurong West St. 51 #01-257',\n",
              "      '640501',\n",
              "      'Singapore'],\n",
              "     'labeledLatLngs': [{'label': 'display',\n",
              "       'lat': 1.3505428768655137,\n",
              "       'lng': 103.7192079198379}],\n",
              "     'lat': 1.3505428768655137,\n",
              "     'lng': 103.7192079198379,\n",
              "     'postalCode': '640501'},\n",
              "    'name': 'KFC',\n",
              "    'referralId': 'v-1597972897'},\n",
              "   {'categories': [{'icon': {'prefix': 'https://ss3.4sqi.net/img/categories_v2/food/fastfood_',\n",
              "       'suffix': '.png'},\n",
              "      'id': '4bf58dd8d48988d16e941735',\n",
              "      'name': 'Fast Food Restaurant',\n",
              "      'pluralName': 'Fast Food Restaurants',\n",
              "      'primary': True,\n",
              "      'shortName': 'Fast Food'}],\n",
              "    'hasPerk': False,\n",
              "    'id': '549944ad498ef340b2f6ee11',\n",
              "    'location': {'address': '#01-21, Fairprice Hub',\n",
              "     'cc': 'SG',\n",
              "     'city': 'Singapore',\n",
              "     'country': 'Singapore',\n",
              "     'crossStreet': '1 Joo Koon Circle',\n",
              "     'distance': 2190,\n",
              "     'formattedAddress': ['#01-21, Fairprice Hub (1 Joo Koon Circle)',\n",
              "      '629117',\n",
              "      'Singapore'],\n",
              "     'labeledLatLngs': [{'label': 'display',\n",
              "       'lat': 1.3273617693766495,\n",
              "       'lng': 103.67809546237102}],\n",
              "     'lat': 1.3273617693766495,\n",
              "     'lng': 103.67809546237102,\n",
              "     'postalCode': '629117'},\n",
              "    'name': 'KFC',\n",
              "    'referralId': 'v-1597972897'},\n",
              "   {'categories': [{'icon': {'prefix': 'https://ss3.4sqi.net/img/categories_v2/food/friedchicken_',\n",
              "       'suffix': '.png'},\n",
              "      'id': '4d4ae6fc7a7b7dea34424761',\n",
              "      'name': 'Fried Chicken Joint',\n",
              "      'pluralName': 'Fried Chicken Joints',\n",
              "      'primary': True,\n",
              "      'shortName': 'Fried Chicken'}],\n",
              "    'hasPerk': False,\n",
              "    'id': '58f86aed42d8c27f0df43652',\n",
              "    'location': {'cc': 'SG',\n",
              "     'country': 'Singapore',\n",
              "     'distance': 2063,\n",
              "     'formattedAddress': ['Singapore'],\n",
              "     'labeledLatLngs': [{'label': 'display',\n",
              "       'lat': 1.329501,\n",
              "       'lng': 103.675364}],\n",
              "     'lat': 1.329501,\n",
              "     'lng': 103.675364},\n",
              "    'name': 'kfc joon koon',\n",
              "    'referralId': 'v-1597972897'},\n",
              "   {'categories': [{'icon': {'prefix': 'https://ss3.4sqi.net/img/categories_v2/food/friedchicken_',\n",
              "       'suffix': '.png'},\n",
              "      'id': '4d4ae6fc7a7b7dea34424761',\n",
              "      'name': 'Fried Chicken Joint',\n",
              "      'pluralName': 'Fried Chicken Joints',\n",
              "      'primary': True,\n",
              "      'shortName': 'Fried Chicken'}],\n",
              "    'hasPerk': False,\n",
              "    'id': '4ebd14b65c5c279832d999e8',\n",
              "    'location': {'cc': 'SG',\n",
              "     'city': 'Singapore',\n",
              "     'country': 'Singapore',\n",
              "     'distance': 2201,\n",
              "     'formattedAddress': ['Singapore'],\n",
              "     'labeledLatLngs': [{'label': 'display',\n",
              "       'lat': 1.355945569153438,\n",
              "       'lng': 103.70020979184}],\n",
              "     'lat': 1.355945569153438,\n",
              "     'lng': 103.70020979184},\n",
              "    'name': 'KFC @ Keat Hong Market',\n",
              "    'referralId': 'v-1597972897'},\n",
              "   {'categories': [{'icon': {'prefix': 'https://ss3.4sqi.net/img/categories_v2/building/default_',\n",
              "       'suffix': '.png'},\n",
              "      'id': '4bf58dd8d48988d130941735',\n",
              "      'name': 'Building',\n",
              "      'pluralName': 'Buildings',\n",
              "      'primary': True,\n",
              "      'shortName': 'Building'}],\n",
              "    'hasPerk': False,\n",
              "    'id': '4bc131a6f8219c743715b310',\n",
              "    'location': {'address': 'Jurong West Street 91',\n",
              "     'cc': 'SG',\n",
              "     'city': 'Singapore',\n",
              "     'country': 'Singapore',\n",
              "     'distance': 1174,\n",
              "     'formattedAddress': ['Jurong West Street 91', '649040', 'Singapore'],\n",
              "     'labeledLatLngs': [{'label': 'display',\n",
              "       'lat': 1.3425430243288003,\n",
              "       'lng': 103.69264313094244}],\n",
              "     'lat': 1.3425430243288003,\n",
              "     'lng': 103.69264313094244,\n",
              "     'postalCode': '649040'},\n",
              "    'name': 'Nanyang Community Centre',\n",
              "    'referralId': 'v-1597972897'},\n",
              "   {'categories': [{'icon': {'prefix': 'https://ss3.4sqi.net/img/categories_v2/food/friedchicken_',\n",
              "       'suffix': '.png'},\n",
              "      'id': '4d4ae6fc7a7b7dea34424761',\n",
              "      'name': 'Fried Chicken Joint',\n",
              "      'pluralName': 'Fried Chicken Joints',\n",
              "      'primary': True,\n",
              "      'shortName': 'Fried Chicken'}],\n",
              "    'hasPerk': False,\n",
              "    'id': '4de3bfb3c65b7a3e213933bc',\n",
              "    'location': {'address': '201 Boon Lay Way',\n",
              "     'cc': 'SG',\n",
              "     'country': 'Singapore',\n",
              "     'distance': 4367,\n",
              "     'formattedAddress': ['201 Boon Lay Way', '649845', 'Singapore'],\n",
              "     'labeledLatLngs': [{'label': 'display',\n",
              "       'lat': 1.3462707509383427,\n",
              "       'lng': 103.7220921883716}],\n",
              "     'lat': 1.3462707509383427,\n",
              "     'lng': 103.7220921883716,\n",
              "     'postalCode': '649845'},\n",
              "    'name': 'Kfc @ Jurong West',\n",
              "    'referralId': 'v-1597972897'}]}}"
            ]
          },
          "metadata": {
            "tags": []
          },
          "execution_count": 13
        }
      ]
    },
    {
      "cell_type": "code",
      "metadata": {
        "id": "g5ba2Ze8lgTE",
        "colab_type": "code",
        "colab": {
          "base_uri": "https://localhost:8080/",
          "height": 433
        },
        "outputId": "c26c5699-d067-4c6c-9e15-e6001067f621"
      },
      "source": [
        "# assign relevant part of JSON to venues\n",
        "venues = results['response']['venues']\n",
        "\n",
        "# tranform venues into a dataframe\n",
        "dataframe = json_normalize(venues)\n",
        "dataframe.info()\n"
      ],
      "execution_count": 14,
      "outputs": [
        {
          "output_type": "stream",
          "text": [
            "<class 'pandas.core.frame.DataFrame'>\n",
            "RangeIndex: 11 entries, 0 to 10\n",
            "Data columns (total 16 columns):\n",
            " #   Column                     Non-Null Count  Dtype  \n",
            "---  ------                     --------------  -----  \n",
            " 0   id                         11 non-null     object \n",
            " 1   name                       11 non-null     object \n",
            " 2   categories                 11 non-null     object \n",
            " 3   referralId                 11 non-null     object \n",
            " 4   hasPerk                    11 non-null     bool   \n",
            " 5   location.address           9 non-null      object \n",
            " 6   location.lat               11 non-null     float64\n",
            " 7   location.lng               11 non-null     float64\n",
            " 8   location.labeledLatLngs    11 non-null     object \n",
            " 9   location.distance          11 non-null     int64  \n",
            " 10  location.cc                11 non-null     object \n",
            " 11  location.city              9 non-null      object \n",
            " 12  location.country           11 non-null     object \n",
            " 13  location.formattedAddress  11 non-null     object \n",
            " 14  location.crossStreet       4 non-null      object \n",
            " 15  location.postalCode        8 non-null      object \n",
            "dtypes: bool(1), float64(2), int64(1), object(12)\n",
            "memory usage: 1.4+ KB\n"
          ],
          "name": "stdout"
        },
        {
          "output_type": "stream",
          "text": [
            "/usr/local/lib/python3.6/dist-packages/ipykernel_launcher.py:5: FutureWarning: pandas.io.json.json_normalize is deprecated, use pandas.json_normalize instead\n",
            "  \"\"\"\n"
          ],
          "name": "stderr"
        }
      ]
    },
    {
      "cell_type": "code",
      "metadata": {
        "id": "heB8_2X3l-It",
        "colab_type": "code",
        "colab": {
          "base_uri": "https://localhost:8080/",
          "height": 711
        },
        "outputId": "99d89b7b-5a70-4b99-9f8d-a9ea0412aa0e"
      },
      "source": [
        "# keep only columns that include venue name, and anything that is associated with location\n",
        "filtered_columns = ['name', 'categories'] + [col for col in dataframe.columns if col.startswith('location.')] + ['id']\n",
        "dataframe_filtered = dataframe.loc[:, filtered_columns]\n",
        "\n",
        "# function that extracts the category of the venue\n",
        "def get_category_type(row):\n",
        "    try:\n",
        "        categories_list = row['categories']\n",
        "    except:\n",
        "        categories_list = row['venue.categories']\n",
        "        \n",
        "    if len(categories_list) == 0:\n",
        "        return None\n",
        "    else:\n",
        "        return categories_list[0]['name']\n",
        "\n",
        "# filter the category for each row\n",
        "dataframe_filtered['categories'] = dataframe_filtered.apply(get_category_type, axis=1)\n",
        "\n",
        "# clean column names by keeping only last term\n",
        "dataframe_filtered.columns = [column.split('.')[-1] for column in dataframe_filtered.columns]\n",
        "\n",
        "dataframe_filtered"
      ],
      "execution_count": 20,
      "outputs": [
        {
          "output_type": "execute_result",
          "data": {
            "text/html": [
              "<div>\n",
              "<style scoped>\n",
              "    .dataframe tbody tr th:only-of-type {\n",
              "        vertical-align: middle;\n",
              "    }\n",
              "\n",
              "    .dataframe tbody tr th {\n",
              "        vertical-align: top;\n",
              "    }\n",
              "\n",
              "    .dataframe thead th {\n",
              "        text-align: right;\n",
              "    }\n",
              "</style>\n",
              "<table border=\"1\" class=\"dataframe\">\n",
              "  <thead>\n",
              "    <tr style=\"text-align: right;\">\n",
              "      <th></th>\n",
              "      <th>name</th>\n",
              "      <th>categories</th>\n",
              "      <th>address</th>\n",
              "      <th>lat</th>\n",
              "      <th>lng</th>\n",
              "      <th>labeledLatLngs</th>\n",
              "      <th>distance</th>\n",
              "      <th>cc</th>\n",
              "      <th>city</th>\n",
              "      <th>country</th>\n",
              "      <th>formattedAddress</th>\n",
              "      <th>crossStreet</th>\n",
              "      <th>postalCode</th>\n",
              "      <th>id</th>\n",
              "    </tr>\n",
              "  </thead>\n",
              "  <tbody>\n",
              "    <tr>\n",
              "      <th>0</th>\n",
              "      <td>KFC</td>\n",
              "      <td>Fast Food Restaurant</td>\n",
              "      <td>N2.1, #01-04, NTU</td>\n",
              "      <td>1.347524</td>\n",
              "      <td>103.680002</td>\n",
              "      <td>[{'label': 'display', 'lat': 1.347524284419654...</td>\n",
              "      <td>338</td>\n",
              "      <td>SG</td>\n",
              "      <td>Singapore</td>\n",
              "      <td>Singapore</td>\n",
              "      <td>[N2.1, #01-04, NTU, Singapore]</td>\n",
              "      <td>NaN</td>\n",
              "      <td>NaN</td>\n",
              "      <td>53ca55dc498ee46b50d0f096</td>\n",
              "    </tr>\n",
              "    <tr>\n",
              "      <th>1</th>\n",
              "      <td>KFC</td>\n",
              "      <td>Fast Food Restaurant</td>\n",
              "      <td>60 Jurong West St 91</td>\n",
              "      <td>1.342705</td>\n",
              "      <td>103.692723</td>\n",
              "      <td>[{'label': 'display', 'lat': 1.342704810612355...</td>\n",
              "      <td>1175</td>\n",
              "      <td>SG</td>\n",
              "      <td>Singapore</td>\n",
              "      <td>Singapore</td>\n",
              "      <td>[60 Jurong West St 91 (Nanyang CC), 649040, Si...</td>\n",
              "      <td>Nanyang CC</td>\n",
              "      <td>649040</td>\n",
              "      <td>4c0f17ba2466a59304377a21</td>\n",
              "    </tr>\n",
              "    <tr>\n",
              "      <th>2</th>\n",
              "      <td>KFC</td>\n",
              "      <td>Fast Food Restaurant</td>\n",
              "      <td>1 Jurong West St 74 #01-02</td>\n",
              "      <td>1.348309</td>\n",
              "      <td>103.698659</td>\n",
              "      <td>[{'label': 'display', 'lat': 1.348308916361994...</td>\n",
              "      <td>1771</td>\n",
              "      <td>SG</td>\n",
              "      <td>Singapore</td>\n",
              "      <td>Singapore</td>\n",
              "      <td>[1 Jurong West St 74 #01-02 (Gek Poh Ville CC)...</td>\n",
              "      <td>Gek Poh Ville CC</td>\n",
              "      <td>649149</td>\n",
              "      <td>4bed403fbac3c9b6e0f9fde9</td>\n",
              "    </tr>\n",
              "    <tr>\n",
              "      <th>3</th>\n",
              "      <td>KFC</td>\n",
              "      <td>Fast Food Restaurant</td>\n",
              "      <td>#01-30 Jurong Point (JP1)</td>\n",
              "      <td>1.339842</td>\n",
              "      <td>103.706528</td>\n",
              "      <td>[{'label': 'display', 'lat': 1.339841876840794...</td>\n",
              "      <td>2736</td>\n",
              "      <td>SG</td>\n",
              "      <td>Singapore</td>\n",
              "      <td>Singapore</td>\n",
              "      <td>[#01-30 Jurong Point (JP1) (1 Jurong West Cent...</td>\n",
              "      <td>1 Jurong West Central 2</td>\n",
              "      <td>648886</td>\n",
              "      <td>4bbc7606e4529521e4e055a4</td>\n",
              "    </tr>\n",
              "    <tr>\n",
              "      <th>4</th>\n",
              "      <td>KFC</td>\n",
              "      <td>Fast Food Restaurant</td>\n",
              "      <td>18 Yung Ho Rd</td>\n",
              "      <td>1.326359</td>\n",
              "      <td>103.723881</td>\n",
              "      <td>[{'label': 'display', 'lat': 1.326358973257232...</td>\n",
              "      <td>5085</td>\n",
              "      <td>SG</td>\n",
              "      <td>Singapore</td>\n",
              "      <td>Singapore</td>\n",
              "      <td>[18 Yung Ho Rd, 618591, Singapore]</td>\n",
              "      <td>NaN</td>\n",
              "      <td>618591</td>\n",
              "      <td>4b7a81a8f964a520342f2fe3</td>\n",
              "    </tr>\n",
              "    <tr>\n",
              "      <th>5</th>\n",
              "      <td>KFC</td>\n",
              "      <td>Fast Food Restaurant</td>\n",
              "      <td>501 Jurong West St. 51 #01-257</td>\n",
              "      <td>1.350543</td>\n",
              "      <td>103.719208</td>\n",
              "      <td>[{'label': 'display', 'lat': 1.350542876865513...</td>\n",
              "      <td>4071</td>\n",
              "      <td>SG</td>\n",
              "      <td>Singapore</td>\n",
              "      <td>Singapore</td>\n",
              "      <td>[501 Jurong West St. 51 #01-257, 640501, Singa...</td>\n",
              "      <td>NaN</td>\n",
              "      <td>640501</td>\n",
              "      <td>4bd04205caff9521236fcef0</td>\n",
              "    </tr>\n",
              "    <tr>\n",
              "      <th>6</th>\n",
              "      <td>KFC</td>\n",
              "      <td>Fast Food Restaurant</td>\n",
              "      <td>#01-21, Fairprice Hub</td>\n",
              "      <td>1.327362</td>\n",
              "      <td>103.678095</td>\n",
              "      <td>[{'label': 'display', 'lat': 1.327361769376649...</td>\n",
              "      <td>2190</td>\n",
              "      <td>SG</td>\n",
              "      <td>Singapore</td>\n",
              "      <td>Singapore</td>\n",
              "      <td>[#01-21, Fairprice Hub (1 Joo Koon Circle), 62...</td>\n",
              "      <td>1 Joo Koon Circle</td>\n",
              "      <td>629117</td>\n",
              "      <td>549944ad498ef340b2f6ee11</td>\n",
              "    </tr>\n",
              "    <tr>\n",
              "      <th>7</th>\n",
              "      <td>kfc joon koon</td>\n",
              "      <td>Fried Chicken Joint</td>\n",
              "      <td>NaN</td>\n",
              "      <td>1.329501</td>\n",
              "      <td>103.675364</td>\n",
              "      <td>[{'label': 'display', 'lat': 1.329501, 'lng': ...</td>\n",
              "      <td>2063</td>\n",
              "      <td>SG</td>\n",
              "      <td>NaN</td>\n",
              "      <td>Singapore</td>\n",
              "      <td>[Singapore]</td>\n",
              "      <td>NaN</td>\n",
              "      <td>NaN</td>\n",
              "      <td>58f86aed42d8c27f0df43652</td>\n",
              "    </tr>\n",
              "    <tr>\n",
              "      <th>8</th>\n",
              "      <td>KFC @ Keat Hong Market</td>\n",
              "      <td>Fried Chicken Joint</td>\n",
              "      <td>NaN</td>\n",
              "      <td>1.355946</td>\n",
              "      <td>103.700210</td>\n",
              "      <td>[{'label': 'display', 'lat': 1.355945569153438...</td>\n",
              "      <td>2201</td>\n",
              "      <td>SG</td>\n",
              "      <td>Singapore</td>\n",
              "      <td>Singapore</td>\n",
              "      <td>[Singapore]</td>\n",
              "      <td>NaN</td>\n",
              "      <td>NaN</td>\n",
              "      <td>4ebd14b65c5c279832d999e8</td>\n",
              "    </tr>\n",
              "    <tr>\n",
              "      <th>9</th>\n",
              "      <td>Nanyang Community Centre</td>\n",
              "      <td>Building</td>\n",
              "      <td>Jurong West Street 91</td>\n",
              "      <td>1.342543</td>\n",
              "      <td>103.692643</td>\n",
              "      <td>[{'label': 'display', 'lat': 1.342543024328800...</td>\n",
              "      <td>1174</td>\n",
              "      <td>SG</td>\n",
              "      <td>Singapore</td>\n",
              "      <td>Singapore</td>\n",
              "      <td>[Jurong West Street 91, 649040, Singapore]</td>\n",
              "      <td>NaN</td>\n",
              "      <td>649040</td>\n",
              "      <td>4bc131a6f8219c743715b310</td>\n",
              "    </tr>\n",
              "    <tr>\n",
              "      <th>10</th>\n",
              "      <td>Kfc @ Jurong West</td>\n",
              "      <td>Fried Chicken Joint</td>\n",
              "      <td>201 Boon Lay Way</td>\n",
              "      <td>1.346271</td>\n",
              "      <td>103.722092</td>\n",
              "      <td>[{'label': 'display', 'lat': 1.346270750938342...</td>\n",
              "      <td>4367</td>\n",
              "      <td>SG</td>\n",
              "      <td>NaN</td>\n",
              "      <td>Singapore</td>\n",
              "      <td>[201 Boon Lay Way, 649845, Singapore]</td>\n",
              "      <td>NaN</td>\n",
              "      <td>649845</td>\n",
              "      <td>4de3bfb3c65b7a3e213933bc</td>\n",
              "    </tr>\n",
              "  </tbody>\n",
              "</table>\n",
              "</div>"
            ],
            "text/plain": [
              "                        name  ...                        id\n",
              "0                        KFC  ...  53ca55dc498ee46b50d0f096\n",
              "1                        KFC  ...  4c0f17ba2466a59304377a21\n",
              "2                        KFC  ...  4bed403fbac3c9b6e0f9fde9\n",
              "3                        KFC  ...  4bbc7606e4529521e4e055a4\n",
              "4                        KFC  ...  4b7a81a8f964a520342f2fe3\n",
              "5                        KFC  ...  4bd04205caff9521236fcef0\n",
              "6                        KFC  ...  549944ad498ef340b2f6ee11\n",
              "7              kfc joon koon  ...  58f86aed42d8c27f0df43652\n",
              "8     KFC @ Keat Hong Market  ...  4ebd14b65c5c279832d999e8\n",
              "9   Nanyang Community Centre  ...  4bc131a6f8219c743715b310\n",
              "10         Kfc @ Jurong West  ...  4de3bfb3c65b7a3e213933bc\n",
              "\n",
              "[11 rows x 14 columns]"
            ]
          },
          "metadata": {
            "tags": []
          },
          "execution_count": 20
        }
      ]
    },
    {
      "cell_type": "code",
      "metadata": {
        "id": "1p4jseUyo2lE",
        "colab_type": "code",
        "colab": {
          "base_uri": "https://localhost:8080/",
          "height": 217
        },
        "outputId": "3d0773dd-26a0-4c9a-bf03-cea3dff519b3"
      },
      "source": [
        "dataframe_filtered.name"
      ],
      "execution_count": 21,
      "outputs": [
        {
          "output_type": "execute_result",
          "data": {
            "text/plain": [
              "0                          KFC\n",
              "1                          KFC\n",
              "2                          KFC\n",
              "3                          KFC\n",
              "4                          KFC\n",
              "5                          KFC\n",
              "6                          KFC\n",
              "7                kfc joon koon\n",
              "8       KFC @ Keat Hong Market\n",
              "9     Nanyang Community Centre\n",
              "10           Kfc @ Jurong West\n",
              "Name: name, dtype: object"
            ]
          },
          "metadata": {
            "tags": []
          },
          "execution_count": 21
        }
      ]
    },
    {
      "cell_type": "code",
      "metadata": {
        "id": "xOCvFOvZo6uY",
        "colab_type": "code",
        "colab": {
          "base_uri": "https://localhost:8080/",
          "height": 904
        },
        "outputId": "4eb2e21d-612d-40dd-f91e-ffef9aaa4628"
      },
      "source": [
        "venues_map = folium.Map(location=[latitude, longitude], zoom_start=13) # generate map centred around NTU\n",
        "\n",
        "# add a red circle marker to represent the NTU\n",
        "folium.CircleMarker(\n",
        "    [latitude, longitude],\n",
        "    radius=10,\n",
        "    color='red',\n",
        "    popup='NTU',\n",
        "    fill = True,\n",
        "    fill_color = 'red',\n",
        "    fill_opacity = 0.6\n",
        ").add_to(venues_map)\n",
        "\n",
        "# add the KFC as blue circle markers\n",
        "for lat, lng, label in zip(dataframe_filtered.lat, dataframe_filtered.lng, dataframe_filtered.categories):\n",
        "    folium.CircleMarker(\n",
        "        [lat, lng],\n",
        "        radius=5,\n",
        "        color='blue',\n",
        "        popup=label,\n",
        "        fill = True,\n",
        "        fill_color='blue',\n",
        "        fill_opacity=0.6\n",
        "    ).add_to(venues_map)\n",
        "\n",
        "# display map\n",
        "venues_map"
      ],
      "execution_count": 24,
      "outputs": [
        {
          "output_type": "execute_result",
          "data": {
            "text/html": [
              "<div style=\"width:100%;\"><div style=\"position:relative;width:100%;height:0;padding-bottom:60%;\"><span style=\"color:#565656\">Make this Notebook Trusted to load map: File -> Trust Notebook</span><iframe src=\"about:blank\" style=\"position:absolute;width:100%;height:100%;left:0;top:0;border:none !important;\" data-html=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 onload=\"this.contentDocument.open();this.contentDocument.write(atob(this.getAttribute('data-html')));this.contentDocument.close();\" allowfullscreen webkitallowfullscreen mozallowfullscreen></iframe></div></div>"
            ],
            "text/plain": [
              "<folium.folium.Map at 0x7fed28529898>"
            ]
          },
          "metadata": {
            "tags": []
          },
          "execution_count": 24
        }
      ]
    },
    {
      "cell_type": "code",
      "metadata": {
        "id": "1I7KWr5LpyWN",
        "colab_type": "code",
        "colab": {
          "base_uri": "https://localhost:8080/",
          "height": 296
        },
        "outputId": "9d7614e6-ea7e-4515-bb4d-1a76d60cba2a"
      },
      "source": [
        "df = dataframe_filtered\n",
        "from sklearn.cluster import KMeans \n",
        "import matplotlib.pyplot as plt # plotting library\n",
        "\n",
        "\n",
        "%matplotlib inline\n",
        "\n",
        "df.plot(x='lat',y='lng',kind='scatter')"
      ],
      "execution_count": 26,
      "outputs": [
        {
          "output_type": "execute_result",
          "data": {
            "text/plain": [
              "<matplotlib.axes._subplots.AxesSubplot at 0x7fed18aee780>"
            ]
          },
          "metadata": {
            "tags": []
          },
          "execution_count": 26
        },
        {
          "output_type": "display_data",
          "data": {
            "image/png": "[encoded data removed]",
            "text/plain": [
              "<Figure size 432x288 with 1 Axes>"
            ]
          },
          "metadata": {
            "tags": [],
            "needs_background": "light"
          }
        }
      ]
    },
    {
      "cell_type": "code",
      "metadata": {
        "id": "oWIPJIfBraVN",
        "colab_type": "code",
        "colab": {
          "base_uri": "https://localhost:8080/",
          "height": 331
        },
        "outputId": "ff92e9e5-296c-401e-f12d-dac44e88de16"
      },
      "source": [
        "k_means = KMeans(init = \"k-means++\", n_clusters = 4, n_init = 12)\n",
        "df_array=np.array(df[['lat','lng']])\n",
        "k_means.fit(df_array)\n",
        "k_labels=pd.DataFrame(k_means.labels_)\n",
        "k_labels.info()\n",
        "df['cluster']=k_labels\n",
        "df.groupby('cluster').count()"
      ],
      "execution_count": 27,
      "outputs": [
        {
          "output_type": "stream",
          "text": [
            "<class 'pandas.core.frame.DataFrame'>\n",
            "RangeIndex: 11 entries, 0 to 10\n",
            "Data columns (total 1 columns):\n",
            " #   Column  Non-Null Count  Dtype\n",
            "---  ------  --------------  -----\n",
            " 0   0       11 non-null     int32\n",
            "dtypes: int32(1)\n",
            "memory usage: 172.0 bytes\n"
          ],
          "name": "stdout"
        },
        {
          "output_type": "execute_result",
          "data": {
            "text/html": [
              "<div>\n",
              "<style scoped>\n",
              "    .dataframe tbody tr th:only-of-type {\n",
              "        vertical-align: middle;\n",
              "    }\n",
              "\n",
              "    .dataframe tbody tr th {\n",
              "        vertical-align: top;\n",
              "    }\n",
              "\n",
              "    .dataframe thead th {\n",
              "        text-align: right;\n",
              "    }\n",
              "</style>\n",
              "<table border=\"1\" class=\"dataframe\">\n",
              "  <thead>\n",
              "    <tr style=\"text-align: right;\">\n",
              "      <th></th>\n",
              "      <th>name</th>\n",
              "      <th>categories</th>\n",
              "      <th>address</th>\n",
              "      <th>lat</th>\n",
              "      <th>lng</th>\n",
              "      <th>labeledLatLngs</th>\n",
              "      <th>distance</th>\n",
              "      <th>cc</th>\n",
              "      <th>city</th>\n",
              "      <th>country</th>\n",
              "      <th>formattedAddress</th>\n",
              "      <th>crossStreet</th>\n",
              "      <th>postalCode</th>\n",
              "      <th>id</th>\n",
              "    </tr>\n",
              "    <tr>\n",
              "      <th>cluster</th>\n",
              "      <th></th>\n",
              "      <th></th>\n",
              "      <th></th>\n",
              "      <th></th>\n",
              "      <th></th>\n",
              "      <th></th>\n",
              "      <th></th>\n",
              "      <th></th>\n",
              "      <th></th>\n",
              "      <th></th>\n",
              "      <th></th>\n",
              "      <th></th>\n",
              "      <th></th>\n",
              "      <th></th>\n",
              "    </tr>\n",
              "  </thead>\n",
              "  <tbody>\n",
              "    <tr>\n",
              "      <th>0</th>\n",
              "      <td>3</td>\n",
              "      <td>3</td>\n",
              "      <td>2</td>\n",
              "      <td>3</td>\n",
              "      <td>3</td>\n",
              "      <td>3</td>\n",
              "      <td>3</td>\n",
              "      <td>3</td>\n",
              "      <td>2</td>\n",
              "      <td>3</td>\n",
              "      <td>3</td>\n",
              "      <td>1</td>\n",
              "      <td>1</td>\n",
              "      <td>3</td>\n",
              "    </tr>\n",
              "    <tr>\n",
              "      <th>1</th>\n",
              "      <td>2</td>\n",
              "      <td>2</td>\n",
              "      <td>2</td>\n",
              "      <td>2</td>\n",
              "      <td>2</td>\n",
              "      <td>2</td>\n",
              "      <td>2</td>\n",
              "      <td>2</td>\n",
              "      <td>1</td>\n",
              "      <td>2</td>\n",
              "      <td>2</td>\n",
              "      <td>0</td>\n",
              "      <td>2</td>\n",
              "      <td>2</td>\n",
              "    </tr>\n",
              "    <tr>\n",
              "      <th>2</th>\n",
              "      <td>5</td>\n",
              "      <td>5</td>\n",
              "      <td>4</td>\n",
              "      <td>5</td>\n",
              "      <td>5</td>\n",
              "      <td>5</td>\n",
              "      <td>5</td>\n",
              "      <td>5</td>\n",
              "      <td>5</td>\n",
              "      <td>5</td>\n",
              "      <td>5</td>\n",
              "      <td>3</td>\n",
              "      <td>4</td>\n",
              "      <td>5</td>\n",
              "    </tr>\n",
              "    <tr>\n",
              "      <th>3</th>\n",
              "      <td>1</td>\n",
              "      <td>1</td>\n",
              "      <td>1</td>\n",
              "      <td>1</td>\n",
              "      <td>1</td>\n",
              "      <td>1</td>\n",
              "      <td>1</td>\n",
              "      <td>1</td>\n",
              "      <td>1</td>\n",
              "      <td>1</td>\n",
              "      <td>1</td>\n",
              "      <td>0</td>\n",
              "      <td>1</td>\n",
              "      <td>1</td>\n",
              "    </tr>\n",
              "  </tbody>\n",
              "</table>\n",
              "</div>"
            ],
            "text/plain": [
              "         name  categories  address  ...  crossStreet  postalCode  id\n",
              "cluster                             ...                             \n",
              "0           3           3        2  ...            1           1   3\n",
              "1           2           2        2  ...            0           2   2\n",
              "2           5           5        4  ...            3           4   5\n",
              "3           1           1        1  ...            0           1   1\n",
              "\n",
              "[4 rows x 14 columns]"
            ]
          },
          "metadata": {
            "tags": []
          },
          "execution_count": 27
        }
      ]
    },
    {
      "cell_type": "code",
      "metadata": {
        "id": "NX0Ls1NLrmGr",
        "colab_type": "code",
        "colab": {
          "base_uri": "https://localhost:8080/",
          "height": 904
        },
        "outputId": "3146b931-c16e-49ac-aa76-0b87b779f3b7"
      },
      "source": [
        "# add markers to map\n",
        "\n",
        "for lat, lng, name,distance,cluster in zip(df['lat'], df['lng'], df['name'], df['distance'],df['cluster']):\n",
        "    \n",
        "    if cluster == 0:\n",
        "        label = '{}, {}'.format(name,distance)\n",
        "        label = folium.Popup(label, parse_html=True)\n",
        "        folium.CircleMarker(\n",
        "            [lat, lng],\n",
        "            radius=5,\n",
        "            popup=label,\n",
        "            color='blue',\n",
        "            fill=True,\n",
        "            fill_color='blue',\n",
        "            fill_opacity=0.7,\n",
        "            parse_html=False).add_to(venues_map)  \n",
        "    if cluster == 1:\n",
        "        label = '{}, {}'.format(name,distance)\n",
        "        label = folium.Popup(label, parse_html=True)\n",
        "        folium.CircleMarker(\n",
        "            [lat, lng],\n",
        "            radius=5,\n",
        "            popup=label,\n",
        "            color='red',\n",
        "            fill=True,\n",
        "            fill_color='red',\n",
        "            fill_opacity=0.7,\n",
        "            parse_html=False).add_to(venues_map)  \n",
        "    if cluster == 2:\n",
        "        label = '{}, {}'.format(name,distance)\n",
        "        label = folium.Popup(label, parse_html=True)\n",
        "        folium.CircleMarker(\n",
        "            [lat, lng],\n",
        "            radius=5,\n",
        "            popup=label,\n",
        "            color='green',\n",
        "            fill=True,\n",
        "            fill_color='green',\n",
        "            fill_opacity=0.7,\n",
        "            parse_html=False).add_to(venues_map)  \n",
        "    if cluster == 3:\n",
        "        label = '{}, {}'.format(name,distance)\n",
        "        label = folium.Popup(label, parse_html=True)\n",
        "        folium.CircleMarker(\n",
        "            [lat, lng],\n",
        "            radius=5,\n",
        "            popup=label,\n",
        "            color='purple',\n",
        "            fill=True,\n",
        "            fill_color='purple',\n",
        "            fill_opacity=0.7,\n",
        "            parse_html=False).add_to(venues_map)  \n",
        "    \n",
        "venues_map"
      ],
      "execution_count": 30,
      "outputs": [
        {
          "output_type": "execute_result",
          "data": {
            "text/html": [
              "<div style=\"width:100%;\"><div style=\"position:relative;width:100%;height:0;padding-bottom:60%;\"><span style=\"color:#565656\">Make this Notebook Trusted to load map: File -> Trust Notebook</span><iframe src=\"about:blank\" style=\"position:absolute;width:100%;height:100%;left:0;top:0;border:none !important;\" data-html=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 onload=\"this.contentDocument.open();this.contentDocument.write(atob(this.getAttribute('data-html')));this.contentDocument.close();\" allowfullscreen webkitallowfullscreen mozallowfullscreen></iframe></div></div>"
            ],
            "text/plain": [
              "<folium.folium.Map at 0x7fed28529898>"
            ]
          },
          "metadata": {
            "tags": []
          },
          "execution_count": 30
        }
      ]
    },
    {
      "cell_type": "code",
      "metadata": {
        "id": "kkpwHJnNtMNm",
        "colab_type": "code",
        "colab": {
          "base_uri": "https://localhost:8080/",
          "height": 197
        },
        "outputId": "29f63446-ff01-4f99-edce-0d2bfd218b58"
      },
      "source": [
        "# Generate the recommended location for the four cluster using the mean of the locations\n",
        "\n",
        "center_location=df.groupby('cluster').mean()\n",
        "center_location"
      ],
      "execution_count": 31,
      "outputs": [
        {
          "output_type": "execute_result",
          "data": {
            "text/html": [
              "<div>\n",
              "<style scoped>\n",
              "    .dataframe tbody tr th:only-of-type {\n",
              "        vertical-align: middle;\n",
              "    }\n",
              "\n",
              "    .dataframe tbody tr th {\n",
              "        vertical-align: top;\n",
              "    }\n",
              "\n",
              "    .dataframe thead th {\n",
              "        text-align: right;\n",
              "    }\n",
              "</style>\n",
              "<table border=\"1\" class=\"dataframe\">\n",
              "  <thead>\n",
              "    <tr style=\"text-align: right;\">\n",
              "      <th></th>\n",
              "      <th>lat</th>\n",
              "      <th>lng</th>\n",
              "      <th>distance</th>\n",
              "    </tr>\n",
              "    <tr>\n",
              "      <th>cluster</th>\n",
              "      <th></th>\n",
              "      <th></th>\n",
              "      <th></th>\n",
              "    </tr>\n",
              "  </thead>\n",
              "  <tbody>\n",
              "    <tr>\n",
              "      <th>0</th>\n",
              "      <td>1.334796</td>\n",
              "      <td>103.677820</td>\n",
              "      <td>1530.333333</td>\n",
              "    </tr>\n",
              "    <tr>\n",
              "      <th>1</th>\n",
              "      <td>1.348407</td>\n",
              "      <td>103.720650</td>\n",
              "      <td>4219.000000</td>\n",
              "    </tr>\n",
              "    <tr>\n",
              "      <th>2</th>\n",
              "      <td>1.345869</td>\n",
              "      <td>103.698153</td>\n",
              "      <td>1811.400000</td>\n",
              "    </tr>\n",
              "    <tr>\n",
              "      <th>3</th>\n",
              "      <td>1.326359</td>\n",
              "      <td>103.723881</td>\n",
              "      <td>5085.000000</td>\n",
              "    </tr>\n",
              "  </tbody>\n",
              "</table>\n",
              "</div>"
            ],
            "text/plain": [
              "              lat         lng     distance\n",
              "cluster                                   \n",
              "0        1.334796  103.677820  1530.333333\n",
              "1        1.348407  103.720650  4219.000000\n",
              "2        1.345869  103.698153  1811.400000\n",
              "3        1.326359  103.723881  5085.000000"
            ]
          },
          "metadata": {
            "tags": []
          },
          "execution_count": 31
        }
      ]
    },
    {
      "cell_type": "code",
      "metadata": {
        "id": "WZFdfvg3tUrm",
        "colab_type": "code",
        "colab": {
          "base_uri": "https://localhost:8080/",
          "height": 904
        },
        "outputId": "e1a89c04-7062-476f-fb7b-2f7e3ebcc51e"
      },
      "source": [
        "\n",
        "# color_list=['blue','red','green','purple']\n",
        "# Add recommended location on the map\n",
        "i=0\n",
        "for lat, lng in zip(center_location['lat'],center_location['lng']):\n",
        "    folium.Marker([lat,lng], popup='Recommend for Group '+ str(i)).add_to(venues_map)\n",
        "    i=i+1\n",
        "venues_map"
      ],
      "execution_count": 32,
      "outputs": [
        {
          "output_type": "execute_result",
          "data": {
            "text/html": [
              "<div style=\"width:100%;\"><div style=\"position:relative;width:100%;height:0;padding-bottom:60%;\"><span style=\"color:#565656\">Make this Notebook Trusted to load map: File -> Trust Notebook</span><iframe src=\"about:blank\" style=\"position:absolute;width:100%;height:100%;left:0;top:0;border:none !important;\" data-html=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 onload=\"this.contentDocument.open();this.contentDocument.write(atob(this.getAttribute('data-html')));this.contentDocument.close();\" allowfullscreen webkitallowfullscreen mozallowfullscreen></iframe></div></div>"
            ],
            "text/plain": [
              "<folium.folium.Map at 0x7fed28529898>"
            ]
          },
          "metadata": {
            "tags": []
          },
          "execution_count": 32
        }
      ]
    }
  ]
}