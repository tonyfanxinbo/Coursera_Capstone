{
  "nbformat": 4,
  "nbformat_minor": 0,
  "metadata": {
    "colab": {
      "name": "Week 5 report.ipynb",
      "provenance": [],
      "authorship_tag": "ABX9TyOEZbT/rwQ4vYVweTp0UM7N",
      "include_colab_link": true
    },
    "kernelspec": {
      "name": "python3",
      "display_name": "Python 3"
    }
  },
  "cells": [
    {
      "cell_type": "markdown",
      "metadata": {
        "id": "view-in-github",
        "colab_type": "text"
      },
      "source": [
        "<a href=\"https://colab.research.google.com/github/tonyfanxinbo/Coursera_Capstone/blob/master/Week_5_report.ipynb\" target=\"_parent\"><img src=\"https://colab.research.google.com/assets/colab-badge.svg\" alt=\"Open In Colab\"/></a>"
      ]
    },
    {
      "cell_type": "markdown",
      "metadata": {
        "id": "vAki0-OVhuGR",
        "colab_type": "text"
      },
      "source": [
        "I. Introduction\n",
        "\n",
        "The problem I try to expplore is \"where is the best location for a new KFC in Jurong west area of Singapore\". I am student studing that area and want to start my bussiness- opening a KFC. when i am choosing the location, I have following question: Should I place my KFC in a place where there are a lot of existing KFCs or in a place where there is none or should I try to find some balance between these two extremes?\n",
        "\n",
        "II. Data\n",
        "\n",
        "For the problem I will: 1) find the exsiting KFCs in Jurong west and identify them visually on a map; 2) create several \"clusters\" of these KFCs to identfiy potential locations for me to choose. I need choose one from these business locations.\n",
        "\n",
        "We should use the \"explore\" endpoint. The request url is \"https://api.foursquare.com/v2/venues/explore\" According to the document, in the request, we should pass following parameters: \"section=KFC\" and \"near=jurong west\". In the response, we are interested in groups.items.categories, groups.items.venue.name, group.items.venue.location. To simplify the problem, we will only use the geographic location to cluster the KFCs.\n",
        "\n",
        "III. Methodology\n",
        "\n",
        "The basic idea behind the solution is that for locating a new KFC, we should find where is the exsiting KFCs. When we get the a bunch of KFCs, the data is clustered to find several concentration that will be targeted by the new KFC. The intended location is the geographic average of the location of the currently exsiting KFCs.\n",
        "\n",
        "IV. Results\n",
        "I use the dataset to create four clusters, as show in the notebook. The geographic average of this location is marked and recommended the location for opening the business.\n",
        "\n",
        "V. Discussion\n",
        "This solution is based purely on the geographic location, so it is not comprehensive. Though in the business of KFC, the right location is the most important decision to make. Nevertheless, if we could find more information on each cluster,it will improve the solution further.\n",
        "\n",
        "VI. Conclusion\n",
        "The clustering is very useful and intuitive to solve the problem related to geographic data. We should also pay attention to the outcomes of the clustering. Because the clustering may be simply wrong. But more likely, the result may present a new business opportunity. In the later case, we should examine the features we included in the model to find the cause of the result.\n"
      ]
    }
  ]
}