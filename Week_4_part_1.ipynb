{
  "nbformat": 4,
  "nbformat_minor": 0,
  "metadata": {
    "colab": {
      "name": "Week 4 part 1.ipynb",
      "provenance": [],
      "authorship_tag": "ABX9TyPE5Vzb4AAyahSz3uDSwpNK",
      "include_colab_link": true
    },
    "kernelspec": {
      "name": "python3",
      "display_name": "Python 3"
    }
  },
  "cells": [
    {
      "cell_type": "markdown",
      "metadata": {
        "id": "view-in-github",
        "colab_type": "text"
      },
      "source": [
        "<a href=\"https://colab.research.google.com/github/tonyfanxinbo/Coursera_Capstone/blob/master/Week_4_part_1.ipynb\" target=\"_parent\"><img src=\"https://colab.research.google.com/assets/colab-badge.svg\" alt=\"Open In Colab\"/></a>"
      ]
    },
    {
      "cell_type": "markdown",
      "metadata": {
        "id": "vAki0-OVhuGR",
        "colab_type": "text"
      },
      "source": [
        "I. Introduction\n",
        "\n",
        "The problem I try to expplore is \"where is the best location for a new KFC in Jurong west area of Singapore\". I am student studing that area and want to start my bussiness- opening a KFC. when i am choosing the location, I have following question: Should I place my KFC in a place where there are a lot of existing KFCs or in a place where there is none or should I try to find some balance between these two extremes?\n"
      ]
    }
  ]
}